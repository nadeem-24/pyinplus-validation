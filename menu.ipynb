{
 "cells": [
  {
   "cell_type": "code",
   "execution_count": null,
   "metadata": {},
   "outputs": [],
   "source": [
    "import pyinputplus as pyip"
   ]
  },
  {
   "cell_type": "code",
   "execution_count": null,
   "metadata": {},
   "outputs": [],
   "source": [
    "def sandwich_maker():\n",
    "    total = 0\n",
    "    \n",
    "    #item price list \n",
    "    price = {\n",
    "        'wheat': 20,'white': 15, 'soudough': 25,\n",
    "        'chicken': 20, 'turkey':30, 'ham':40, 'tofu':35,\n",
    "        'cheese':10,\n",
    "        'chedder': 14, 'swiss':18,'mozzarella':33,\n",
    "        'mayo':5,'mustard':10,'lettuce':10,'tomato':10\n",
    "    }\n",
    "    #menu\n",
    "    print('Here is the Menu with prices in rupees')\n",
    "    \n",
    "    for key,value in price.items():\n",
    "        print('%s - %s ' % (key, value))\n",
    "    \n",
    "    #user input     \n",
    "    bread_type = pyip.inputMenu(['wheat','white','sourdough'])\n",
    "    total = total + price[bread_type]\n",
    "            \n",
    "    protein_type = pyip.inputMenu(['chicken','turkey','ham','tofu'])\n",
    "    total = total + price[protein_type]\n",
    "    \n",
    "    cheese = pyip.inputYesNo('Do you want cheese?')\n",
    "    \n",
    "    if cheese == 'yes':\n",
    "        cheese_type = pyip.inputMenu(['chedder','Swiss','mozzarella'])\n",
    "        total = total + price[cheese_type]\n",
    "        \n",
    "    other = pyip.inputYesNo('Do You want other toppings?')\n",
    "    \n",
    "    if other == 'yes':\n",
    "        other_type = pyip.inputMenu(['mayo','mustard','lettuce','tomato'])\n",
    "        total = total + price[other_type]\n",
    "        \n",
    "    sandwich_num = pyip.inputInt('Enter no of Sandwiches you want', greaterThan = 0) #total number of units\n",
    "    \n",
    "    final = total * sandwich_num #total sum of the cost\n",
    "    \n",
    "    return print(f'Your Sandwich will be ready shortly plz pay a total of {final} rupees.')\n",
    "        "
   ]
  }
 ],
 "metadata": {
  "language_info": {
   "name": "python"
  },
  "orig_nbformat": 4
 },
 "nbformat": 4,
 "nbformat_minor": 2
}
